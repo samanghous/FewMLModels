{
 "cells": [
  {
   "cell_type": "code",
   "execution_count": 5,
   "metadata": {},
   "outputs": [],
   "source": [
    "import os\n",
    "import pandas as pd \n",
    "import numpy as np\n",
    "from sklearn.linear_model import LinearRegression\n",
    "from sklearn.model_selection import train_test_split\n",
    "from matplotlib import pyplot as plt"
   ]
  },
  {
   "cell_type": "code",
   "execution_count": 3,
   "metadata": {},
   "outputs": [],
   "source": [
    "%matplotlib inline"
   ]
  },
  {
   "cell_type": "code",
   "execution_count": 72,
   "metadata": {},
   "outputs": [],
   "source": [
    "# Read comma separated data\n",
    "data = np.loadtxt(os.path.join('ex1data1.txt'), delimiter=',')\n",
    "X, y = data[:, 0], data[:, 1]"
   ]
  },
  {
   "cell_type": "code",
   "execution_count": 74,
   "metadata": {},
   "outputs": [
    {
     "data": {
      "text/plain": [
       "[<matplotlib.lines.Line2D at 0x7fb77dbf1090>]"
      ]
     },
     "execution_count": 74,
     "metadata": {},
     "output_type": "execute_result"
    },
    {
     "data": {
      "image/png": "[encoded data removed]",
      "text/plain": [
       "<Figure size 432x288 with 1 Axes>"
      ]
     },
     "metadata": {
      "needs_background": "light"
     },
     "output_type": "display_data"
    }
   ],
   "source": [
    "plt.plot(X,y,'ro',ms=7)\n"
   ]
  },
  {
   "cell_type": "code",
   "execution_count": 75,
   "metadata": {},
   "outputs": [],
   "source": [
    "# make pandas dataset"
   ]
  },
  {
   "cell_type": "code",
   "execution_count": 76,
   "metadata": {},
   "outputs": [],
   "source": [
    "sam1=pd.DataFrame(data,columns=['X','Y'])"
   ]
  },
  {
   "cell_type": "code",
   "execution_count": 77,
   "metadata": {},
   "outputs": [
    {
     "data": {
      "text/html": [
       "<div>\n",
       "<style scoped>\n",
       "    .dataframe tbody tr th:only-of-type {\n",
       "        vertical-align: middle;\n",
       "    }\n",
       "\n",
       "    .dataframe tbody tr th {\n",
       "        vertical-align: top;\n",
       "    }\n",
       "\n",
       "    .dataframe thead th {\n",
       "        text-align: right;\n",
       "    }\n",
       "</style>\n",
       "<table border=\"1\" class=\"dataframe\">\n",
       "  <thead>\n",
       "    <tr style=\"text-align: right;\">\n",
       "      <th></th>\n",
       "      <th>X</th>\n",
       "      <th>Y</th>\n",
       "    </tr>\n",
       "  </thead>\n",
       "  <tbody>\n",
       "    <tr>\n",
       "      <th>0</th>\n",
       "      <td>6.1101</td>\n",
       "      <td>17.59200</td>\n",
       "    </tr>\n",
       "    <tr>\n",
       "      <th>1</th>\n",
       "      <td>5.5277</td>\n",
       "      <td>9.13020</td>\n",
       "    </tr>\n",
       "    <tr>\n",
       "      <th>2</th>\n",
       "      <td>8.5186</td>\n",
       "      <td>13.66200</td>\n",
       "    </tr>\n",
       "    <tr>\n",
       "      <th>3</th>\n",
       "      <td>7.0032</td>\n",
       "      <td>11.85400</td>\n",
       "    </tr>\n",
       "    <tr>\n",
       "      <th>4</th>\n",
       "      <td>5.8598</td>\n",
       "      <td>6.82330</td>\n",
       "    </tr>\n",
       "    <tr>\n",
       "      <th>...</th>\n",
       "      <td>...</td>\n",
       "      <td>...</td>\n",
       "    </tr>\n",
       "    <tr>\n",
       "      <th>92</th>\n",
       "      <td>5.8707</td>\n",
       "      <td>7.20290</td>\n",
       "    </tr>\n",
       "    <tr>\n",
       "      <th>93</th>\n",
       "      <td>5.3054</td>\n",
       "      <td>1.98690</td>\n",
       "    </tr>\n",
       "    <tr>\n",
       "      <th>94</th>\n",
       "      <td>8.2934</td>\n",
       "      <td>0.14454</td>\n",
       "    </tr>\n",
       "    <tr>\n",
       "      <th>95</th>\n",
       "      <td>13.3940</td>\n",
       "      <td>9.05510</td>\n",
       "    </tr>\n",
       "    <tr>\n",
       "      <th>96</th>\n",
       "      <td>5.4369</td>\n",
       "      <td>0.61705</td>\n",
       "    </tr>\n",
       "  </tbody>\n",
       "</table>\n",
       "<p>97 rows × 2 columns</p>\n",
       "</div>"
      ],
      "text/plain": [
       "          X         Y\n",
       "0    6.1101  17.59200\n",
       "1    5.5277   9.13020\n",
       "2    8.5186  13.66200\n",
       "3    7.0032  11.85400\n",
       "4    5.8598   6.82330\n",
       "..      ...       ...\n",
       "92   5.8707   7.20290\n",
       "93   5.3054   1.98690\n",
       "94   8.2934   0.14454\n",
       "95  13.3940   9.05510\n",
       "96   5.4369   0.61705\n",
       "\n",
       "[97 rows x 2 columns]"
      ]
     },
     "execution_count": 77,
     "metadata": {},
     "output_type": "execute_result"
    }
   ],
   "source": [
    "sam1"
   ]
  },
  {
   "cell_type": "code",
   "execution_count": 78,
   "metadata": {},
   "outputs": [],
   "source": [
    "# split data for testing and training randomly"
   ]
  },
  {
   "cell_type": "code",
   "execution_count": 79,
   "metadata": {},
   "outputs": [],
   "source": [
    "x_train,x_test,y_train,y_test=train_test_split(sam1.X,sam1.Y)"
   ]
  },
  {
   "cell_type": "code",
   "execution_count": 80,
   "metadata": {},
   "outputs": [
    {
     "data": {
      "text/plain": [
       "<matplotlib.legend.Legend at 0x7fb77db4de90>"
      ]
     },
     "execution_count": 80,
     "metadata": {},
     "output_type": "execute_result"
    },
    {
     "data": {
      "image/png": "[encoded data removed]",
      "text/plain": [
       "<Figure size 432x288 with 1 Axes>"
      ]
     },
     "metadata": {
      "needs_background": "light"
     },
     "output_type": "display_data"
    }
   ],
   "source": [
    "plt.scatter(x_train,y_train,label='training data')\n",
    "plt.scatter(x_test,y_test,label='testing data')\n",
    "plt.legend()"
   ]
  },
  {
   "cell_type": "code",
   "execution_count": 81,
   "metadata": {},
   "outputs": [
    {
     "data": {
      "text/plain": [
       "45     7.0931\n",
       "43     5.7737\n",
       "76     7.5386\n",
       "93     5.3054\n",
       "51     5.3077\n",
       "       ...   \n",
       "53     7.6031\n",
       "8      6.4862\n",
       "0      6.1101\n",
       "54     6.3328\n",
       "26    12.8280\n",
       "Name: X, Length: 72, dtype: float64"
      ]
     },
     "execution_count": 81,
     "metadata": {},
     "output_type": "execute_result"
    }
   ],
   "source": [
    "x_train"
   ]
  },
  {
   "cell_type": "code",
   "execution_count": 82,
   "metadata": {},
   "outputs": [
    {
     "data": {
      "text/plain": [
       "array([[ 7.0931],\n",
       "       [ 5.7737],\n",
       "       [ 7.5386],\n",
       "       [ 5.3054],\n",
       "       [ 5.3077],\n",
       "       [13.176 ],\n",
       "       [ 8.8254],\n",
       "       [ 5.8707],\n",
       "       [ 5.3794],\n",
       "       [ 8.5781],\n",
       "       [ 5.6397],\n",
       "       [ 7.4764],\n",
       "       [10.274 ],\n",
       "       [ 5.0269],\n",
       "       [11.708 ],\n",
       "       [13.394 ],\n",
       "       [ 9.7687],\n",
       "       [ 5.1884],\n",
       "       [ 9.3102],\n",
       "       [ 6.5479],\n",
       "       [ 7.4239],\n",
       "       [ 7.9334],\n",
       "       [ 5.4994],\n",
       "       [ 8.5172],\n",
       "       [ 7.2259],\n",
       "       [20.341 ],\n",
       "       [ 5.7292],\n",
       "       [ 5.5204],\n",
       "       [10.236 ],\n",
       "       [ 5.0702],\n",
       "       [ 6.3261],\n",
       "       [ 5.5277],\n",
       "       [21.279 ],\n",
       "       [ 7.3345],\n",
       "       [ 5.4069],\n",
       "       [ 5.734 ],\n",
       "       [ 5.8014],\n",
       "       [ 5.1077],\n",
       "       [ 5.8598],\n",
       "       [ 5.0546],\n",
       "       [ 5.4369],\n",
       "       [ 8.3829],\n",
       "       [ 5.7077],\n",
       "       [ 5.2524],\n",
       "       [ 7.0032],\n",
       "       [ 6.2742],\n",
       "       [ 6.8825],\n",
       "       [ 6.0062],\n",
       "       [ 5.6407],\n",
       "       [ 8.2934],\n",
       "       [11.7   ],\n",
       "       [ 9.2482],\n",
       "       [ 8.2111],\n",
       "       [ 8.5186],\n",
       "       [ 5.0365],\n",
       "       [10.957 ],\n",
       "       [ 6.5159],\n",
       "       [ 5.5416],\n",
       "       [ 6.3534],\n",
       "       [ 5.5649],\n",
       "       [ 9.1802],\n",
       "       [ 8.4084],\n",
       "       [ 5.1793],\n",
       "       [ 5.0594],\n",
       "       [ 5.7107],\n",
       "       [ 8.2951],\n",
       "       [ 6.3589],\n",
       "       [ 7.6031],\n",
       "       [ 6.4862],\n",
       "       [ 6.1101],\n",
       "       [ 6.3328],\n",
       "       [12.828 ]])"
      ]
     },
     "execution_count": 82,
     "metadata": {},
     "output_type": "execute_result"
    }
   ],
   "source": [
    "x_train.values.reshape(-1,1)"
   ]
  },
  {
   "cell_type": "code",
   "execution_count": 83,
   "metadata": {},
   "outputs": [
    {
     "data": {
      "text/plain": [
       "array([ 1.0463 ,  2.4406 ,  3.8845 ,  1.9869 ,  1.8396 , 14.692  ,\n",
       "        5.1694 ,  7.2029 ,  3.5129 , 12.     ,  4.6042 ,  4.3483 ,\n",
       "        6.7526 , -2.6807 ,  5.3854 ,  9.0551 ,  7.5435 ,  0.20421,\n",
       "        3.9624 ,  0.29678,  4.2885 ,  4.5623 ,  1.0173 ,  4.2415 ,\n",
       "        3.3411 , 20.992  ,  0.47953,  0.152  ,  7.7754 ,  5.1337 ,\n",
       "        5.1875 ,  9.1302 , 17.929  ,  4.0259 ,  0.55657,  3.1551 ,\n",
       "        1.844  ,  2.0576 ,  6.8233 ,  3.8166 ,  0.61705, 11.886  ,\n",
       "        1.8451 , -1.22   , 11.854  ,  2.4756 ,  3.9115 ,  1.2784 ,\n",
       "        0.71618,  0.14454,  8.0043 , 12.134  ,  6.5426 , 13.662  ,\n",
       "        5.7014 ,  7.0467 ,  5.3436 ,  1.0179 ,  5.4974 ,  3.0825 ,\n",
       "        6.7981 ,  7.2258 , -0.74279,  2.8214 ,  3.2522 ,  5.7442 ,\n",
       "       -1.4211 ,  4.9981 ,  6.5987 , 17.592  ,  1.4233 , 13.501  ])"
      ]
     },
     "execution_count": 83,
     "metadata": {},
     "output_type": "execute_result"
    }
   ],
   "source": [
    "y_train.values"
   ]
  },
  {
   "cell_type": "code",
   "execution_count": 84,
   "metadata": {},
   "outputs": [],
   "source": [
    "# training dataset"
   ]
  },
  {
   "cell_type": "code",
   "execution_count": 85,
   "metadata": {},
   "outputs": [
    {
     "data": {
      "text/plain": [
       "LinearRegression(copy_X=True, fit_intercept=True, n_jobs=None, normalize=False)"
      ]
     },
     "execution_count": 85,
     "metadata": {},
     "output_type": "execute_result"
    }
   ],
   "source": [
    "LR=LinearRegression()\n",
    "LR.fit(x_train.values.reshape(-1,1),y_train.values)"
   ]
  },
  {
   "cell_type": "code",
   "execution_count": 86,
   "metadata": {},
   "outputs": [],
   "source": [
    "# predicting dataset"
   ]
  },
  {
   "cell_type": "code",
   "execution_count": 87,
   "metadata": {},
   "outputs": [],
   "source": [
    "sampredicted_ytest=LR.predict(x_test.values.reshape(-1,1))\n",
    " "
   ]
  },
  {
   "cell_type": "code",
   "execution_count": 88,
   "metadata": {},
   "outputs": [
    {
     "data": {
      "text/plain": [
       "<matplotlib.legend.Legend at 0x7fb77db20850>"
      ]
     },
     "execution_count": 88,
     "metadata": {},
     "output_type": "execute_result"
    },
    {
     "data": {
      "image/png": "[encoded data removed]",
      "text/plain": [
       "<Figure size 432x288 with 1 Axes>"
      ]
     },
     "metadata": {
      "needs_background": "light"
     },
     "output_type": "display_data"
    }
   ],
   "source": [
    "plt.plot(x_test,sampredicted_ytest,label='predicted test',color='g')\n",
    "plt.scatter(x_test,y_test,label='original test',color='r')\n",
    "plt.legend()"
   ]
  },
  {
   "cell_type": "code",
   "execution_count": 89,
   "metadata": {},
   "outputs": [
    {
     "data": {
      "text/plain": [
       "0.9185840269293916"
      ]
     },
     "execution_count": 89,
     "metadata": {},
     "output_type": "execute_result"
    }
   ],
   "source": [
    "LR.score(x_test.values.reshape(-1,1),y_test.values)"
   ]
  },
  {
   "cell_type": "code",
   "execution_count": null,
   "metadata": {},
   "outputs": [],
   "source": []
  }
 ],
 "metadata": {
  "kernelspec": {
   "display_name": "Python 3",
   "language": "python",
   "name": "python3"
  },
  "language_info": {
   "codemirror_mode": {
    "name": "ipython",
    "version": 3
   },
   "file_extension": ".py",
   "mimetype": "text/x-python",
   "name": "python",
   "nbconvert_exporter": "python",
   "pygments_lexer": "ipython3",
   "version": "3.7.6"
  }
 },
 "nbformat": 4,
 "nbformat_minor": 4
}
